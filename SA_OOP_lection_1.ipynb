{
  "nbformat": 4,
  "nbformat_minor": 0,
  "metadata": {
    "colab": {
      "name": "SA-OOP_lection_1.ipynb",
      "provenance": [],
      "collapsed_sections": [
        "ERH-EeTdt1Dq"
      ],
      "toc_visible": true,
      "include_colab_link": true
    },
    "kernelspec": {
      "name": "python3",
      "display_name": "Python 3"
    }
  },
  "cells": [
    {
      "cell_type": "markdown",
      "metadata": {
        "id": "view-in-github",
        "colab_type": "text"
      },
      "source": [
        "<a href=\"https://colab.research.google.com/github/vladuxa23/SA-OOP/blob/main/SA_OOP_lection_1.ipynb\" target=\"_parent\"><img src=\"https://colab.research.google.com/assets/colab-badge.svg\" alt=\"Open In Colab\"/></a>"
      ]
    },
    {
      "cell_type": "markdown",
      "metadata": {
        "id": "hsP2rxfp1ZC9"
      },
      "source": [
        "# Введение в Python"
      ]
    },
    {
      "cell_type": "markdown",
      "metadata": {
        "id": "Qr7_zGs71T-t"
      },
      "source": [
        "## Python среди других языков программирования"
      ]
    },
    {
      "cell_type": "markdown",
      "metadata": {
        "id": "dDrKSB2p61I_"
      },
      "source": [
        "### Низко- и высокоуровневые языки программирования"
      ]
    },
    {
      "cell_type": "markdown",
      "metadata": {
        "id": "ycDCREt01v-q"
      },
      "source": [
        "**Язык программирования** это строго определенный набор правил, благодаря которому возможно взаимодействие человека с компьютером."
      ]
    },
    {
      "cell_type": "markdown",
      "metadata": {
        "id": "tRGBBMGi15SH"
      },
      "source": [
        "Язык программирования этот тот инструмент, с помощью которого вы можете управлять компьютером. \n",
        "\n",
        "Сам по себе компьютер делать ничего не умеет, результат его работы и того, что он умеет, это огромный труд большого количества программистов"
      ]
    },
    {
      "cell_type": "markdown",
      "metadata": {
        "id": "6qwHjfvJ2G2a"
      },
      "source": [
        "Получается, чтобы компьютер начал понимать, что вы от него хотите в написанной вами программе с выбранным языком программирования, ему нужна ещё одна программа, которая будет понимать и выполнять ваш язык программирования.\n",
        "\n",
        "Поэтому языки программирования делятся на \n",
        "- низкоуровневые\n",
        "- высокоуровненые"
      ]
    },
    {
      "cell_type": "markdown",
      "metadata": {
        "id": "kUrxCm2X3-W0"
      },
      "source": [
        "![](https://drive.google.com/uc?id=1IisUQZPW7Hvv6B2ve__3wiD1TXohmGHS)"
      ]
    },
    {
      "cell_type": "markdown",
      "metadata": {
        "id": "KmpJZuSe45_p"
      },
      "source": [
        "![](https://drive.google.com/uc?id=1w1cYcmFgkutYj2QAYtuLYsF9lww131K8)"
      ]
    },
    {
      "cell_type": "markdown",
      "metadata": {
        "id": "qn4FYce64s7D"
      },
      "source": [
        "Язык программирования Python относится к высокоуровневым языкам."
      ]
    },
    {
      "cell_type": "markdown",
      "metadata": {
        "id": "Sa8wErmz69Oj"
      },
      "source": [
        "### Компилируемые и интерпретируемые языки программирования"
      ]
    },
    {
      "cell_type": "markdown",
      "metadata": {
        "id": "nwlARL2m6zS2"
      },
      "source": [
        "Ещё языки программирования делятся на \n",
        "- компилируемые;\n",
        "- интерпретируемые.\n",
        "\n",
        "В **компилируемых** языках для преобразования исходного кода в машинный код используются специальные программы - компиляторы. \n",
        "\n",
        "Компиляторы преобразуют весь “человеческий” код в машинный перед началом работы, а на выходе получается новая скомпилированная программа, которую и выполняет компьютер."
      ]
    },
    {
      "cell_type": "markdown",
      "metadata": {
        "id": "pZkGZmiu9t59"
      },
      "source": [
        "Второй тип языков программирования - это **интерпретируемые**. Интерпретатор принимает удобный для восприятия человеком код и начинает построчно исполнять его, преобразуя каждую строку в машинный код. \n",
        "\n",
        "Отличие компилятора от интерпретатора в том, что последний не создает никакой новой программы, а просто берет каждую строку вашей программы, преобразует её в такую форму, которая понятна для выполнения компьютеру, и исполняет ее, а затем берет следующую инструкцию. Делать он будет это до тех пор пока не будут выполнены все строки вашего исходного файла либо не встретится команда, обозначающая конец интерпретации. "
      ]
    },
    {
      "cell_type": "markdown",
      "metadata": {
        "id": "isAcbxLm9-vU"
      },
      "source": [
        "Отвечая на вопрос, какое же место язык Python занимает среди всех языков программирования?\n",
        "\n",
        "**Python это высокоуровневый интерпретируемый кроссплатформенный язык программирования.**"
      ]
    },
    {
      "cell_type": "markdown",
      "metadata": {
        "id": "87kjQwX4-yqA"
      },
      "source": [
        "## Python среди Python"
      ]
    },
    {
      "cell_type": "markdown",
      "metadata": {
        "id": "ZHTr8p8C-Ic9"
      },
      "source": [
        "### Версии Python"
      ]
    },
    {
      "cell_type": "markdown",
      "metadata": {
        "id": "QCpkBFRp-IW5"
      },
      "source": [
        "До начала 2020 года существовало две принципиально разные версии python. Но Python версии 2 прекратил свою поддержку в январе 2020 году. Последняя версия 2.7.18 была выпущена в апреле 2020. \n",
        "\n",
        "Актуальной версией python является **Python 3**.  Если у вас не стоит конкретной задачи, то однозначно выбирайте его."
      ]
    },
    {
      "cell_type": "markdown",
      "metadata": {
        "id": "-TJufczZHgeQ"
      },
      "source": [
        "### Плюсы и минусы Python\n"
      ]
    },
    {
      "cell_type": "markdown",
      "metadata": {
        "id": "Yp79Le9zHjxw"
      },
      "source": [
        "Как и у любого языка программирования, у Python есть свои плюсы и минусы. "
      ]
    },
    {
      "cell_type": "markdown",
      "metadata": {
        "id": "w-4g36_iIwpj"
      },
      "source": [
        "![](https://drive.google.com/uc?id=1vUa0DeofnXZvoMCjHgxfCVY-u2jac1d0)\n",
        "\n",
        "- ***Минусы*** - интерпретируемый\n",
        "\n",
        "- ***Плюсы***: \n",
        "    - Простой и человекочитабельный **синтаксис**. Это один из основных плюсов, которым python выделяется среди остальных языков программирования. Отлично подходит в качестве первого языка.\n",
        "    - **Многогранность**. Кроссплатформенный (Windows, Linux, Mac) и множество сфер применения начиная от программирования микроконтроллеров заканчивая алгоритмами машинного обучения и анализа данных.\n",
        "    - **Обилие дополнительных библиотек** - богатая коллекция уже готовых решений неких задач другими программистами с подробной документацией (справочник, описывающий, как пользоваться языком программирования)."
      ]
    },
    {
      "cell_type": "markdown",
      "metadata": {
        "id": "q_1R33BYI9Or"
      },
      "source": [
        "В целом, Python это как автомобиль “на каждый день”.  \n",
        "Очень удобный и универсальный в использовании, но проигрывает в скорости менее комфортным и быстрым суперкарам. Вам не нужно очень долго учиться, сели и поехали. \n",
        "\n",
        "Уже через несколько занятий вы сможете писать свои собственные полноценные программы. Поэтому python является отличным языком программирования в качестве первого.\n",
        "![](https://drive.google.com/uc?id=1Vmf4EOI7_hzPxYSLwDx39jIZqSJsJrGb)"
      ]
    },
    {
      "cell_type": "markdown",
      "metadata": {
        "id": "8xwJvqlRNNV5"
      },
      "source": [
        "## Где найти Python?"
      ]
    },
    {
      "cell_type": "markdown",
      "metadata": {
        "id": "8aRZ0HJkPYdt"
      },
      "source": [
        "Официальный сайт [python.org](https://www.python.org/)"
      ]
    },
    {
      "cell_type": "markdown",
      "metadata": {
        "id": "2o7rsY1LT_sm"
      },
      "source": [
        "### Раздел \"About\""
      ]
    },
    {
      "cell_type": "markdown",
      "metadata": {
        "id": "9Xnpg-EBULUd"
      },
      "source": [
        "**Раздел \"About\"**\n",
        "- [“Applications”](https://www.python.org/about/apps/)\n",
        "- [“Getting Started”](https://www.python.org/about/gettingstarted/)\n",
        "\n",
        "![](https://drive.google.com/uc?id=1Vy4OOSIvatfxwm6qPeIpSGHBT02gQzmr)\n",
        "\n"
      ]
    },
    {
      "cell_type": "markdown",
      "metadata": {
        "id": "2rUBKIZPVlrE"
      },
      "source": [
        "### Раздел “Documentation”"
      ]
    },
    {
      "cell_type": "markdown",
      "metadata": {
        "id": "K_AlkBT_VqCq"
      },
      "source": [
        "**Раздел “Documentation”**\n",
        "- [“Beginner's Guide”](https://wiki.python.org/moin/BeginnersGuide) \n",
        "- [“Developer’s Guide”](https://devguide.python.org/)\n",
        "- [“PythonBooks”](https://wiki.python.org/moin/PythonBooks)\n",
        "\n",
        "![](https://drive.google.com/uc?id=16bKl6hUlYbp_XW86HVoPSdeevD1vCw6s)\n",
        "\n"
      ]
    },
    {
      "cell_type": "markdown",
      "metadata": {
        "id": "7qmtghdyaPAz"
      },
      "source": [
        "### Раздел \"Downloads\""
      ]
    },
    {
      "cell_type": "markdown",
      "metadata": {
        "id": "k5jQOtlHNvc3"
      },
      "source": [
        "Зачастую на Linux и MacOS python установлен на умолчанию. На Windows он не стоит по умолчанию.\n",
        "\n",
        "Нет никаких ограничений, сколько версий python у вас может быть установлено. Также нет никаких проблем если у вас будут установлен python 2 и 3 версий."
      ]
    },
    {
      "cell_type": "markdown",
      "metadata": {
        "id": "NY-HEaVXOC6O"
      },
      "source": [
        "Итак, скачать себе интерпретатор python можно с официального сайта в разделе [“Downloads”](https://www.python.org/downloads/). Если вам нужна какая-то специфическая версия, то её можно найти во вкладке “All releases”.\n",
        "![](https://drive.google.com/uc?id=1_F0UM2Nxi2iKkWWS1KRhsNYM26_DfdEj)\n"
      ]
    },
    {
      "cell_type": "markdown",
      "metadata": {
        "id": "X7ytrzsb-uSs"
      },
      "source": [
        "Но и здесь существует несколько различных типов: \n",
        "- **Старые версии**, которые уже тоже закончили поддержку, например версии меньше версии python 3.5, включительно. Они постепенно перестают поддерживаться разработчиками, а значит нет гарантий, что обнаруженные уязвимости и ошибки будут исправлены.\n",
        "\n",
        "- **Актуальные**, любая из версий 3.6, 3.7, 3.8, 3.9, 3.10. Постепенно ранние версии так же прекращают свою поддержку поэтому старайтесь пользоваться наиболее поздней из доступных версий. В данном курсе будем пользоваться **версией python 3.8**.\n",
        "\n",
        "- **Версии, которые проходят тестирование** и готовятся к официальному выпуску. Такие версии находятся в стадии разработки, а следовательно подвержены возникновению большого количества ошибок и несовместимостей. Поэтому их не рекомендуется использовать в “боевых проектах”.\n",
        "\n",
        "***Примечание***: Актуальную [информацию](https://devguide.python.org/#status-of-python-branches) о всех версиях можно узнать на официальном сайте Python \n"
      ]
    },
    {
      "cell_type": "markdown",
      "metadata": {
        "id": "zsAfC0Amf8ni"
      },
      "source": [
        "## Где работать с Python?"
      ]
    },
    {
      "cell_type": "markdown",
      "metadata": {
        "id": "3VQBA7Yogd6N"
      },
      "source": [
        "Программа на языке Python представляет собой простой **текстовый файл с расширением .py**, который содержит исходный код. Далее этот файл нужно передать интерпретатору, чтобы он выполнил описанные вами инструкции.\n",
        "\n",
        "Файл с исходным кодом на языке Python ещё называют **скриптом**.\n"
      ]
    },
    {
      "cell_type": "markdown",
      "metadata": {
        "id": "8nue7jdGjHHh"
      },
      "source": [
        "Для написания простейшей программы вам подойдет даже блокнот. \n",
        "\n",
        "Но куда удобнее писать код в специализированных программах.\n",
        "\n",
        "***Примечание***: [перечь](https://wiki.python.org/moin/PythonEditors) редакторов, которые поддерживают работу с python "
      ]
    },
    {
      "cell_type": "markdown",
      "metadata": {
        "id": "yqqxpWjPj6kP"
      },
      "source": [
        "### Интегрированная среда разработки"
      ]
    },
    {
      "cell_type": "markdown",
      "metadata": {
        "id": "tdKW-vBakFfW"
      },
      "source": [
        "**IDE** - интегрированная среда разработки (англ. Integrated Development Environment). \n",
        "\n",
        "Простыми словами можно сказать, что это программы, которые позволяют писать другие программы.\n",
        "\n",
        "***Примечание:*** С перечнем IDE, позволяющих работать с python можно ознакомиться [здесь](https://wiki.python.org/moin/IntegratedDevelopmentEnvironments)\n"
      ]
    },
    {
      "cell_type": "markdown",
      "metadata": {
        "id": "qh-HfEL-kxUv"
      },
      "source": [
        "Для первого ознакомления можно выделить несколько популярных IDE: \n",
        "- PyCharm\n",
        "- Spyder\n",
        "- Visual Studio\n",
        "- Eclipse + PyDev. \n",
        "\n",
        "Сравнительный анализ IDE для python можно посмотреть [здесь](https://tproger.ru/translations/python-ide/): \n",
        "\n",
        "![](https://drive.google.com/uc?id=1iv66Aov92w5s6jEraRlOIM4ndGpRN5X9)"
      ]
    },
    {
      "cell_type": "markdown",
      "metadata": {
        "id": "k6s6hPJVo-mO"
      },
      "source": [
        "IDE состоит из трех основных объектов:\n",
        "- **текстового редактора**, который позволяет писать код;\n",
        "- **транслятора** (в случае python это интерпретатор), который исполняет ваш код;\n",
        "- **отладчик**, который позволяет пошагово изучить вашу программу и облегчить поиск ошибки.\n"
      ]
    },
    {
      "cell_type": "markdown",
      "metadata": {
        "id": "Jvhi7Dixj3_5"
      },
      "source": [
        "В рамках данного курса мы будем работать с программным обеспечение компании [JetBrains](https://jetbrains.ru/), а конкретно IDE PyCharm. \n",
        "\n",
        "Существует две версии данного продукта: \n",
        "- Professional Edition\n",
        "- Community Edition (CE). \n",
        "\n",
        "\n",
        "[Python + VS Code](https://code.visualstudio.com/docs/python/python-tutorial)"
      ]
    },
    {
      "cell_type": "markdown",
      "metadata": {
        "id": "eHkB9hF2VQk5"
      },
      "source": [
        "## Прежде чем приступать к работе ..."
      ]
    },
    {
      "cell_type": "markdown",
      "metadata": {
        "id": "OvjXNheSUk6Y"
      },
      "source": [
        "PEP (англ. Python Enhancement Proposal) - это [предложения](https://www.python.org/dev/peps/) по развитию питона.\n",
        "\n",
        "Процесс PEP является основным механизмом для предложения **новых возможностей** и для **документирования** проектных решений, которые прошли в Python.\n",
        "\n",
        "- PEP20\n",
        "- PEP8"
      ]
    },
    {
      "cell_type": "markdown",
      "metadata": {
        "id": "fF5PABFrY9I4"
      },
      "source": [
        "### PEP20"
      ]
    },
    {
      "cell_type": "markdown",
      "metadata": {
        "id": "CFBywdFBY_x1"
      },
      "source": [
        "**PEP20** - [Дзен](https://www.python.org/dev/peps/pep-0020/) Python\n",
        "\n",
        "Разработчики языка Python придерживаются определённой философии программирования, называемой **«The Zen of Python»** («Дзен Питона», или «Дзен Пайтона»).\n",
        "\n",
        "В целом она подходит к программированию на любом языке."
      ]
    },
    {
      "cell_type": "code",
      "metadata": {
        "id": "kLoVfd_Qbrl4",
        "colab": {
          "base_uri": "https://localhost:8080/"
        },
        "outputId": "eb64ce1f-63c3-4c65-efe0-5d93199a7b82"
      },
      "source": [
        "# Её текст выдаётся интерпретатором Python по команде:\n",
        "import this"
      ],
      "execution_count": null,
      "outputs": [
        {
          "output_type": "stream",
          "name": "stdout",
          "text": [
            "The Zen of Python, by Tim Peters\n",
            "\n",
            "Beautiful is better than ugly.\n",
            "Explicit is better than implicit.\n",
            "Simple is better than complex.\n",
            "Complex is better than complicated.\n",
            "Flat is better than nested.\n",
            "Sparse is better than dense.\n",
            "Readability counts.\n",
            "Special cases aren't special enough to break the rules.\n",
            "Although practicality beats purity.\n",
            "Errors should never pass silently.\n",
            "Unless explicitly silenced.\n",
            "In the face of ambiguity, refuse the temptation to guess.\n",
            "There should be one-- and preferably only one --obvious way to do it.\n",
            "Although that way may not be obvious at first unless you're Dutch.\n",
            "Now is better than never.\n",
            "Although never is often better than *right* now.\n",
            "If the implementation is hard to explain, it's a bad idea.\n",
            "If the implementation is easy to explain, it may be a good idea.\n",
            "Namespaces are one honking great idea -- let's do more of those!\n"
          ]
        }
      ]
    },
    {
      "cell_type": "markdown",
      "metadata": {
        "id": "owf2xK6YbeGR"
      },
      "source": [
        "**Перевод «The Zen of Python»**\n",
        "\n",
        "1. Красивое лучше, чем уродливое.\n",
        "1. **Явное лучше, чем неявное.**\n",
        "1. **Простое лучше, чем сложное.**\n",
        "1. Сложное лучше, чем запутанное.\n",
        "1. Плоское лучше, чем вложенное.\n",
        "1. Разреженное лучше, чем плотное.\n",
        "1. **Читаемость имеет значение.**\n",
        "1. Особые случаи не настолько особые, чтобы нарушать правила.\n",
        "1. При этом практичность важнее безупречности.\n",
        "1. **Ошибки никогда не должны замалчиваться.**\n",
        "1. Если они не замалчиваются явно.\n",
        "1. Встретив двусмысленность, отбрось искушение угадать.\n",
        "1. Должен существовать один и, желательно, только один очевидный способ сделать это.\n",
        "1. Хотя он поначалу может быть и не очевиден, если вы не голландец.\n",
        "1. Сейчас лучше, чем никогда.\n",
        "1. Хотя никогда зачастую лучше, чем прямо сейчас.\n",
        "1. **Если реализацию сложно объяснить — идея плоха.**\n",
        "1. Если реализацию легко объяснить — идея, возможно, хороша.\n",
        "1. Пространства имён — отличная штука! Будем делать их больше!"
      ]
    },
    {
      "cell_type": "markdown",
      "source": [
        "[Zen с примерами](http://www.russianlutheran.org/python/zen/zen.html)"
      ],
      "metadata": {
        "id": "c9vqzP2drU8K"
      }
    },
    {
      "cell_type": "markdown",
      "metadata": {
        "id": "PQE0b1b7dF4-"
      },
      "source": [
        "### PEP8"
      ]
    },
    {
      "cell_type": "markdown",
      "metadata": {
        "id": "qWKQLMX2fHv5"
      },
      "source": [
        "Документ описывает соглашение о том, как писать код для языка Python. Ключевая идея такова: **код читается намного больше раз, чем пишется**.\n",
        "\n",
        "Данное руководство носит рекомендательный характер!!!"
      ]
    },
    {
      "cell_type": "markdown",
      "metadata": {
        "id": "xnIrDjgwIHxc"
      },
      "source": [
        "PEP8 в оригинале (английский язык) - https://www.python.org/dev/peps/pep-0008/\n",
        "\n",
        "Неплохой перевод на русский язык - https://pythonworld.ru/osnovy/pep-8-rukovodstvo-po-napisaniyu-koda-na-python.html\n",
        "\n"
      ]
    },
    {
      "cell_type": "markdown",
      "metadata": {
        "id": "Rti-KQOg5YLz"
      },
      "source": [
        "[PEP8 cheatsheet](https://gist.github.com/RichardBronosky/454964087739a449da04)"
      ]
    },
    {
      "cell_type": "markdown",
      "metadata": {
        "id": "BC2SuJBM5i6Z"
      },
      "source": [
        "[Ещё примеры PEP8](https://pep8.org/)"
      ]
    },
    {
      "cell_type": "markdown",
      "metadata": {
        "id": "p0SbuoEpqHCb"
      },
      "source": [
        "## Переменные в Python"
      ]
    },
    {
      "cell_type": "markdown",
      "metadata": {
        "id": "DnBIU_bJqSZU"
      },
      "source": [
        "### Переменные"
      ]
    },
    {
      "cell_type": "markdown",
      "metadata": {
        "id": "sQ0XpzpiqYON"
      },
      "source": [
        "**Переменная** - это именованая область памяти компьютера, адрес которой позволяет получить доступ к данным. \n",
        "\n",
        "![](https://pythonchik.ru/pic/lb1/intext_1be28589-3503-4ee4-9594-306836be5b11_original.svg)"
      ]
    },
    {
      "cell_type": "markdown",
      "metadata": {
        "id": "zvMciDIcrWdz"
      },
      "source": [
        "Перкеменную можно представить как контейнер, в который кладутся данные. \n",
        "\n",
        "В него можно что-то положить, можно посмотреть, что в нем лежит. \n",
        "\n",
        "![](https://media.prod.mdn.mozit.cloud/attachments/2016/07/12/13506/fff6c759c689be5d4d25f35f7e6f0e5a/boxes.png)\n",
        "\n",
        "Иногда даже можно выполнить действия с тем, что лежит внутри такого “контейнера”. Например, поменять содержимое.\n",
        "![](https://learn.javascript.ru/article/variables/variable-change.svg)"
      ]
    },
    {
      "cell_type": "markdown",
      "metadata": {
        "id": "J7dfyTrns4sy"
      },
      "source": [
        "### Оператор присваивания"
      ]
    },
    {
      "cell_type": "markdown",
      "metadata": {
        "id": "KPpUDOE-s_Fo"
      },
      "source": [
        "![](https://younglinux.info/sites/default/files/images/python/var_shem.gif)\n",
        "\n",
        "Синтаксис языка Python для создания переменных\n",
        "\n",
        "```python\n",
        "some_variable = \"Hello, World!\"\n",
        "```\n",
        "\n",
        "По рекомендациям PEP8 перед и после знака равно (\" = \") следует оставлять один пробел.\n"
      ]
    },
    {
      "cell_type": "markdown",
      "metadata": {
        "id": "ERH-EeTdt1Dq"
      },
      "source": [
        "### Как можно называть переменные"
      ]
    },
    {
      "cell_type": "markdown",
      "metadata": {
        "id": "24C7uvdbtg5d"
      },
      "source": [
        "Существует два главных правила именования переменных:\n",
        "- Название переменной должно состоять только из букв, цифр и знаков подчеркивания \"_\";\n",
        "- Название переменной не должно начинаться с цифры\n"
      ]
    },
    {
      "cell_type": "markdown",
      "metadata": {
        "id": "gf_-54d4Aw4-"
      },
      "source": [
        "В Python переменные чувствительны к регистру, поэтому\n",
        "\n",
        "\n",
        "```python\n",
        "# это все три разные переменные\n",
        "foo = \"Hello, World!\"\n",
        "\n",
        "Foo = \"Hello, World!\"\n",
        "\n",
        "FOO = \"Hello, World!\"\n",
        "```\n",
        "\n"
      ]
    },
    {
      "cell_type": "markdown",
      "metadata": {
        "id": "2IpnlLKdC2x1"
      },
      "source": [
        "Бывает в спешке забываешь объявить переменную, тогда можно получить ошибку следующего типа\n",
        "\n",
        "\n",
        "```\n",
        "NameError: name 'foo' is not defined\n",
        "```\n",
        "\n"
      ]
    },
    {
      "cell_type": "code",
      "metadata": {
        "colab": {
          "base_uri": "https://localhost:8080/",
          "height": 184
        },
        "id": "RQx9WUtgCqZY",
        "outputId": "33172238-9613-4622-eb2a-a301ca7cd278"
      },
      "source": [
        "# переменная bar не объявлена, то есть ей не присвоено никакое значение, но мы пытаемся работать с ней\n",
        "bar  # NameError: name 'bar' is not defined"
      ],
      "execution_count": null,
      "outputs": [
        {
          "output_type": "error",
          "ename": "NameError",
          "evalue": "ignored",
          "traceback": [
            "\u001b[0;31m---------------------------------------------------------------------------\u001b[0m",
            "\u001b[0;31mNameError\u001b[0m                                 Traceback (most recent call last)",
            "\u001b[0;32m<ipython-input-2-64834cac599d>\u001b[0m in \u001b[0;36m<module>\u001b[0;34m()\u001b[0m\n\u001b[1;32m      1\u001b[0m \u001b[0;31m# переменная bar не объявлена, то есть ей не присвоено никакое значение, но мы пытаемся работать с ней\u001b[0m\u001b[0;34m\u001b[0m\u001b[0;34m\u001b[0m\u001b[0;34m\u001b[0m\u001b[0m\n\u001b[0;32m----> 2\u001b[0;31m \u001b[0mbar\u001b[0m  \u001b[0;31m# NameError: name 'bar' is not defined\u001b[0m\u001b[0;34m\u001b[0m\u001b[0;34m\u001b[0m\u001b[0m\n\u001b[0m",
            "\u001b[0;31mNameError\u001b[0m: name 'bar' is not defined"
          ]
        }
      ]
    },
    {
      "cell_type": "code",
      "source": [
        "bar = 8\n",
        "bar"
      ],
      "metadata": {
        "colab": {
          "base_uri": "https://localhost:8080/"
        },
        "id": "o-taJYEeEscc",
        "outputId": "1be058f6-0a1b-4d03-95dd-fa0a7bba4b45"
      },
      "execution_count": null,
      "outputs": [
        {
          "output_type": "execute_result",
          "data": {
            "text/plain": [
              "8"
            ]
          },
          "metadata": {},
          "execution_count": 4
        }
      ]
    },
    {
      "cell_type": "markdown",
      "metadata": {
        "id": "fCI02hRtt6YR"
      },
      "source": [
        "### Как нельзя называть переменные"
      ]
    },
    {
      "cell_type": "code",
      "metadata": {
        "id": "xwZgUzJ6tnPM",
        "colab": {
          "base_uri": "https://localhost:8080/"
        },
        "outputId": "83622a9c-93c7-4305-937f-ec6814885fa3"
      },
      "source": [
        "help(\"keywords\")"
      ],
      "execution_count": null,
      "outputs": [
        {
          "output_type": "stream",
          "name": "stdout",
          "text": [
            "\n",
            "Here is a list of the Python keywords.  Enter any keyword to get more help.\n",
            "\n",
            "False               class               from                or\n",
            "None                continue            global              pass\n",
            "True                def                 if                  raise\n",
            "and                 del                 import              return\n",
            "as                  elif                in                  try\n",
            "assert              else                is                  while\n",
            "async               except              lambda              with\n",
            "await               finally             nonlocal            yield\n",
            "break               for                 not                 \n",
            "\n"
          ]
        }
      ]
    },
    {
      "cell_type": "code",
      "metadata": {
        "colab": {
          "base_uri": "https://localhost:8080/",
          "height": 131
        },
        "id": "fbd0pKiw-_TE",
        "outputId": "5aeae1c7-0e53-4401-977b-be20c3c19dbe"
      },
      "source": [
        "# Если попытаетесь назвать переменную ключевым словом получите ошибку\n",
        "False = \"Hello, World!\"  # SyntaxError: can't assign to keyword"
      ],
      "execution_count": null,
      "outputs": [
        {
          "output_type": "error",
          "ename": "SyntaxError",
          "evalue": "ignored",
          "traceback": [
            "\u001b[0;36m  File \u001b[0;32m\"<ipython-input-6-c2dc6ed481b3>\"\u001b[0;36m, line \u001b[0;32m2\u001b[0m\n\u001b[0;31m    False = \"Hello, World!\"  # SyntaxError: can't assign to keyword\u001b[0m\n\u001b[0m                                                                   ^\u001b[0m\n\u001b[0;31mSyntaxError\u001b[0m\u001b[0;31m:\u001b[0m can't assign to keyword\n"
          ]
        }
      ]
    },
    {
      "cell_type": "markdown",
      "metadata": {
        "id": "7I1FGulu_p0I"
      },
      "source": [
        "Если очень хочется, то чуть-чуть можно..."
      ]
    },
    {
      "cell_type": "code",
      "metadata": {
        "id": "B_qc6UAF_U_H"
      },
      "source": [
        "# принято в конце дописывать нижнее подчеркивание, если название переменной совпадает с ключевым словом\n",
        "False_ = \"Hello, World!\"  # корректное объявление переменной"
      ],
      "execution_count": null,
      "outputs": []
    },
    {
      "cell_type": "code",
      "metadata": {
        "id": "KBNOUXBN_8sR"
      },
      "source": [
        "# тоже корректное название, потому что в Python переменные чувствительны к регистру\n",
        "false = \"Hello, World!\""
      ],
      "execution_count": null,
      "outputs": []
    },
    {
      "cell_type": "markdown",
      "metadata": {
        "id": "uV55Qyy7dZJQ"
      },
      "source": [
        "### Как нежелательно называть переменные"
      ]
    },
    {
      "cell_type": "code",
      "source": [
        "help(\"keywords\")"
      ],
      "metadata": {
        "id": "wjc1ParAk_Ex"
      },
      "execution_count": null,
      "outputs": []
    },
    {
      "cell_type": "markdown",
      "metadata": {
        "id": "OJYp1qAKdlir"
      },
      "source": [
        "**[Встроенные функции](https://docs.python.org/3/library/functions.html#built-in-functions).** \n",
        "\n",
        "Их использовать в качестве переменных можно, но не желательно.  \n",
        "Такими действиями вы перезапишите стандартное поведение встроенных функций  \n",
        "и не сможете пользоваться ими по конца выполнения текущей программы.  \n",
        "После перезапуска программы, они будут доступны снова.  \n",
        "\n",
        "Пример: `sum`, `len`"
      ]
    },
    {
      "cell_type": "markdown",
      "metadata": {
        "id": "wu6zYDnrtqzQ"
      },
      "source": [
        "### Как желательно называть переменные"
      ]
    },
    {
      "cell_type": "markdown",
      "metadata": {
        "id": "vIGdNMg1uIUs"
      },
      "source": [
        "[Стили имен](https://pythonworld.ru/osnovy/pep-8-rukovodstvo-po-napisaniyu-koda-na-python.html#id17)\n",
        "\n",
        "- Названия переменных:\n",
        "    - `b` (одиночная маленькая буква)\n",
        "    - `B` (одиночная заглавная буква)\n",
        "    - `lowercase` (слово в нижнем регистре)\n",
        "    - `lower_case_with_underscores` (слова из маленьких букв с подчеркиваниями)\n",
        "- Константы:\n",
        "    - `UPPERCASE` (заглавные буквы)\n",
        "    - `UPPERCASE_WITH_UNDERSCORES` (слова из заглавных букв с подчеркиваниями)\n",
        "- Названия функций:\n",
        "    - `lowercase` (слово в нижнем регистре)\n",
        "    - `lower_case_with_underscores` (слова из маленьких букв с подчеркиваниями)\n",
        "- Названия классов:\n",
        "    - `CapWords`"
      ]
    },
    {
      "cell_type": "markdown",
      "metadata": {
        "id": "5KphGi_qCw8e"
      },
      "source": [
        "# Знакомство с Python"
      ]
    },
    {
      "cell_type": "markdown",
      "metadata": {
        "id": "TE16AI_znkx9"
      },
      "source": [
        "## Типы данных"
      ]
    },
    {
      "cell_type": "markdown",
      "metadata": {
        "id": "RrINTJ45mzfy"
      },
      "source": [
        "Встроенных типов меньше чем, встроенных команд, и их нужно знать, потому что это основа для построения ваших программ.\n",
        "\n",
        "К основным [типам данных](https://docs.python.org/3/library/stdtypes.html) можно отнести: \n",
        "- пустое значение\n",
        "- целые числа\n",
        "- числа с плавающей запятой\n",
        "- логические (булевы) значения\n",
        "- строки\n",
        "- списки\n",
        "- словари\n",
        "\n",
        "Важно представлять каким функционалом обладают эти типы данных.  \n",
        "Если вы забыли или захотите со временем  узнать что-то новое, то всегда можете  \n",
        "обратиться к документации."
      ]
    },
    {
      "cell_type": "markdown",
      "metadata": {
        "id": "31pdTQIzVykf"
      },
      "source": [
        "Типы данных делятся на\n",
        "- встроенные (**built-in**);\n",
        "- пользовательские.\n",
        "\n",
        "Основные типы, которыми пользуется практически любой программист, являются встроенными. Давайте посмотрим на них в таблице\n",
        "\n",
        "![](https://drive.google.com/uc?id=1CIV_iUyMyKUwE9ylE95zaJfF_Q8b0ws1)"
      ]
    },
    {
      "cell_type": "markdown",
      "metadata": {
        "id": "zvtXQycBgCjv"
      },
      "source": [
        "Типы данных также можно сгруппировать по следующим признакам:\n",
        "- **Первый признак**\n",
        "    - Числа\n",
        "    - Контейнеры\n",
        "\n",
        "- **Второй признак**\n",
        "    - Изменяемые \n",
        "    - Неизменяемые\n",
        "\n",
        "![](https://upload.wikimedia.org/wikipedia/commons/1/10/Python_3._The_standard_type_hierarchy.png)"
      ]
    },
    {
      "cell_type": "markdown",
      "metadata": {
        "id": "H-it1Irkjmqj"
      },
      "source": [
        "### Callable - вызываемый тип данных"
      ]
    },
    {
      "cell_type": "markdown",
      "metadata": {
        "id": "EKY1Kp5XjwzM"
      },
      "source": [
        "Итак, первое с чего мы начнем изучение это [встроенные команды](https://docs.python.org/3/library/functions.html).  \n",
        "Их не нужно знать наизусть.  \n",
        "\n",
        "С частью возможно вы не столкнетесь, а какие-то будет использоваться очень часто, например:\n",
        "- **`print()`**;\n",
        "- **`input()`**;\n",
        "- **`len()`**;\n",
        "- **`min()`**/**`max()`**;\n",
        "- **`type()`**."
      ]
    },
    {
      "cell_type": "markdown",
      "metadata": {
        "id": "9llmX0BHyAkr"
      },
      "source": [
        "Обратите внимание, что сначала идет название команды, а после круглые скобки.  \n",
        "Так вот наличие круглых скобок является **призывом к действию** для интерпретатора. "
      ]
    },
    {
      "cell_type": "markdown",
      "metadata": {
        "id": "UefQYgVNlDuh"
      },
      "source": [
        "Чтобы узнать тип какой-то переменной в Python есть встроенная команда **`type`**.  \n",
        "\n",
        "Синтаксис команды **`type`**:\n",
        "```python\n",
        "type(variable)\n",
        "```\n",
        "где **`variable`** - некоторая переменная или значение"
      ]
    },
    {
      "cell_type": "code",
      "metadata": {
        "colab": {
          "base_uri": "https://localhost:8080/"
        },
        "id": "yaBAgu45kFNl",
        "outputId": "270d2b63-3792-4f6c-e96b-8583969ee0f2"
      },
      "source": [
        "type(print)  # встроенная функция или метод"
      ],
      "execution_count": null,
      "outputs": [
        {
          "output_type": "execute_result",
          "data": {
            "text/plain": [
              "builtin_function_or_method"
            ]
          },
          "metadata": {},
          "execution_count": 7
        }
      ]
    },
    {
      "cell_type": "code",
      "metadata": {
        "colab": {
          "base_uri": "https://localhost:8080/"
        },
        "id": "P6J39Eztx13L",
        "outputId": "0cce579b-f40e-433e-a2bf-c77804edfda9"
      },
      "source": [
        "help(print)  # получить документацию на любой объект, если она есть"
      ],
      "execution_count": null,
      "outputs": [
        {
          "output_type": "stream",
          "name": "stdout",
          "text": [
            "Help on built-in function print in module builtins:\n",
            "\n",
            "print(...)\n",
            "    print(value, ..., sep=' ', end='\\n', file=sys.stdout, flush=False)\n",
            "    \n",
            "    Prints the values to a stream, or to sys.stdout by default.\n",
            "    Optional keyword arguments:\n",
            "    file:  a file-like object (stream); defaults to the current sys.stdout.\n",
            "    sep:   string inserted between values, default a space.\n",
            "    end:   string appended after the last value, default a newline.\n",
            "    flush: whether to forcibly flush the stream.\n",
            "\n"
          ]
        }
      ]
    },
    {
      "cell_type": "code",
      "metadata": {
        "colab": {
          "base_uri": "https://localhost:8080/"
        },
        "id": "S5-CEHYKmzEt",
        "outputId": "fb1ded72-92bb-430b-ffa4-c1fa56701ddb"
      },
      "source": [
        "print(type(len))"
      ],
      "execution_count": null,
      "outputs": [
        {
          "output_type": "stream",
          "name": "stdout",
          "text": [
            "<class 'builtin_function_or_method'>\n"
          ]
        }
      ]
    },
    {
      "cell_type": "markdown",
      "metadata": {
        "id": "ZqnjRnHAnED_"
      },
      "source": [
        "В рамках нашего курса **class** будет равен **типу данных**"
      ]
    },
    {
      "cell_type": "code",
      "source": [
        "i = 3\n",
        "print(type(i))"
      ],
      "metadata": {
        "colab": {
          "base_uri": "https://localhost:8080/"
        },
        "id": "qXHq9o9vMCqC",
        "outputId": "865d0331-944f-4729-a53a-a61d1699e872"
      },
      "execution_count": null,
      "outputs": [
        {
          "output_type": "stream",
          "name": "stdout",
          "text": [
            "<class 'int'>\n"
          ]
        }
      ]
    },
    {
      "cell_type": "markdown",
      "metadata": {
        "id": "FkAP8RYqjIIz"
      },
      "source": [
        "### Пустое значение - NoneType"
      ]
    },
    {
      "cell_type": "code",
      "metadata": {
        "colab": {
          "base_uri": "https://localhost:8080/"
        },
        "id": "UTHa8fJYjOks",
        "outputId": "b9f426e0-96fa-4f4d-a2ea-1717613fd31e"
      },
      "source": [
        "foo = None  # присваиваем значение переменной\n",
        "\n",
        "print(foo)  # распечатываем значение переменной\n",
        "print(type(foo))  # распечатываем тип переменной"
      ],
      "execution_count": null,
      "outputs": [
        {
          "output_type": "stream",
          "name": "stdout",
          "text": [
            "None\n",
            "<class 'NoneType'>\n"
          ]
        }
      ]
    },
    {
      "cell_type": "markdown",
      "metadata": {
        "id": "aYeG5jhv28YR"
      },
      "source": [
        "## Числа"
      ]
    },
    {
      "cell_type": "markdown",
      "metadata": {
        "id": "1vSJDBQL5hla"
      },
      "source": [
        "### Целые числа"
      ]
    },
    {
      "cell_type": "markdown",
      "metadata": {
        "id": "5K_uvAcT5k1_"
      },
      "source": [
        "Объекты типа **`int`** предназначены для хранения целочисленных данных. \n",
        "\n",
        "Создание такой переменной не требует особой записи - необходимо  \n",
        "только присвоить целое число этой переменной."
      ]
    },
    {
      "cell_type": "code",
      "metadata": {
        "id": "ZNHQkgmj2yqX",
        "colab": {
          "base_uri": "https://localhost:8080/"
        },
        "outputId": "d2791ef1-d03a-478a-fd3a-4e7cf1ba42f6"
      },
      "source": [
        "a = 1\n",
        "b = 0\n",
        "c = -1\n",
        "\n",
        "# функция print умеет принимать несколько значений через запятую и печатать их в одну строку\n",
        "print(a, type(a)) \n",
        "print(b, type(b))\n",
        "print(c, type(c))"
      ],
      "execution_count": null,
      "outputs": [
        {
          "output_type": "stream",
          "name": "stdout",
          "text": [
            "1 <class 'int'>\n",
            "0 <class 'int'>\n",
            "-1 <class 'int'>\n"
          ]
        }
      ]
    },
    {
      "cell_type": "markdown",
      "metadata": {
        "id": "eW8lxl1n5fxY"
      },
      "source": [
        "### Арифметические операторы"
      ]
    },
    {
      "cell_type": "markdown",
      "metadata": {
        "id": "k3H5L4HN6NA5"
      },
      "source": [
        "![](https://drive.google.com/uc?id=1ivd7rIbhu9D6HNcVeIGvO8pBCNdoq6Q7)"
      ]
    },
    {
      "cell_type": "markdown",
      "metadata": {
        "id": "glk-L6SlvYaZ"
      },
      "source": [
        "#### **Сложение**, **Вычитание**, **Умножение**"
      ]
    },
    {
      "cell_type": "code",
      "metadata": {
        "id": "EGBlTIjN56X5",
        "colab": {
          "base_uri": "https://localhost:8080/"
        },
        "outputId": "f05e68b9-a7e1-4ba4-f8b7-eadc49d9545c"
      },
      "source": [
        "add = 5 + 5\n",
        "print(add)\n",
        "print(type(add))"
      ],
      "execution_count": null,
      "outputs": [
        {
          "output_type": "stream",
          "name": "stdout",
          "text": [
            "10\n",
            "<class 'int'>\n"
          ]
        }
      ]
    },
    {
      "cell_type": "code",
      "metadata": {
        "id": "rT1gZxCfvUpF",
        "colab": {
          "base_uri": "https://localhost:8080/"
        },
        "outputId": "f1b1d93c-4799-4d8f-8c3f-6d8922715cb1"
      },
      "source": [
        "sub = 10 - 5\n",
        "print(sub)\n",
        "print(type(sub))"
      ],
      "execution_count": null,
      "outputs": [
        {
          "output_type": "stream",
          "name": "stdout",
          "text": [
            "5\n",
            "<class 'int'>\n"
          ]
        }
      ]
    },
    {
      "cell_type": "code",
      "metadata": {
        "id": "SI9NCEDBvqnJ",
        "colab": {
          "base_uri": "https://localhost:8080/"
        },
        "outputId": "1cd2bf77-da89-458d-8bb5-cf7713699c10"
      },
      "source": [
        "mul = 5 * 5\n",
        "print(mul)\n",
        "print(type(mul))"
      ],
      "execution_count": null,
      "outputs": [
        {
          "output_type": "stream",
          "name": "stdout",
          "text": [
            "25\n",
            "<class 'int'>\n"
          ]
        }
      ]
    },
    {
      "cell_type": "markdown",
      "metadata": {
        "id": "aiuwnyLsv115"
      },
      "source": [
        "Арифметические операторы, как и операторы сравнения рекомендуют отделять пробелами."
      ]
    },
    {
      "cell_type": "markdown",
      "metadata": {
        "id": "IEzFG97gz6z6"
      },
      "source": [
        "***Задача***\n",
        "\n",
        "Найти периметр прямоугольной комнаты со сторонами 6 и 3 метра."
      ]
    },
    {
      "cell_type": "code",
      "metadata": {
        "id": "8zyaHzUL0IQM",
        "colab": {
          "base_uri": "https://localhost:8080/"
        },
        "outputId": "c99fc002-49af-410c-8b71-ab0d0f1a0c83"
      },
      "source": [
        "length = 6\n",
        "width = 3\n",
        "\n",
        "perimeter = (length + width) * 2\n",
        "print(perimeter)"
      ],
      "execution_count": null,
      "outputs": [
        {
          "output_type": "stream",
          "name": "stdout",
          "text": [
            "18\n"
          ]
        }
      ]
    },
    {
      "cell_type": "markdown",
      "metadata": {
        "id": "P_ioHPOYxgF9"
      },
      "source": [
        "#### **Возведение в степень** "
      ]
    },
    {
      "cell_type": "code",
      "metadata": {
        "id": "LnbX5I_1xkoJ",
        "colab": {
          "base_uri": "https://localhost:8080/"
        },
        "outputId": "5ca36d5f-a5ec-4693-f2ad-d7eba6174333"
      },
      "source": [
        "pow_ = 5 ** 2\n",
        "print(pow_)\n",
        "print(type(pow_))"
      ],
      "execution_count": null,
      "outputs": [
        {
          "output_type": "stream",
          "name": "stdout",
          "text": [
            "25\n",
            "<class 'int'>\n"
          ]
        }
      ]
    },
    {
      "cell_type": "markdown",
      "metadata": {
        "id": "6f8iXV8Jxqz5"
      },
      "source": [
        "В Python существует встроенная команда **`pow`**, которая идентична оператору `**`"
      ]
    },
    {
      "cell_type": "code",
      "metadata": {
        "id": "f0cEegNTxpa7"
      },
      "source": [
        "pow_built_in = pow(5, 2)\n",
        "print(pow_built_in)\n",
        "print(type(pow_built_in))"
      ],
      "execution_count": null,
      "outputs": []
    },
    {
      "cell_type": "markdown",
      "metadata": {
        "id": "SvpLGpSzyw3S"
      },
      "source": [
        "***Задача***\n",
        "\n",
        "Найти площадь квадрата со стороной 5. Формула площади квадрата `square = a * a`"
      ]
    },
    {
      "cell_type": "code",
      "metadata": {
        "id": "maFnIh8FzAP_",
        "colab": {
          "base_uri": "https://localhost:8080/"
        },
        "outputId": "a7cad860-74f9-4e26-fbb9-d38c968bc9a6"
      },
      "source": [
        "a = 5\n",
        "square = pow(a, 2)\n",
        "\n",
        "print(square)"
      ],
      "execution_count": null,
      "outputs": [
        {
          "output_type": "stream",
          "name": "stdout",
          "text": [
            "25\n"
          ]
        }
      ]
    },
    {
      "cell_type": "markdown",
      "metadata": {
        "id": "cRz_xrxczjR2"
      },
      "source": [
        "#### **Целочисленное деление и остаток от деления**"
      ]
    },
    {
      "cell_type": "markdown",
      "metadata": {
        "id": "jM4C1QCI19lZ"
      },
      "source": [
        "![](https://habrastorage.org/getpro/habr/post_images/533/366/a02/533366a02b7640b5aeb2b09679915fd8.png)"
      ]
    },
    {
      "cell_type": "markdown",
      "metadata": {
        "id": "Y08ydeBO0-0R"
      },
      "source": [
        "***Задача***\n",
        "\n",
        "Сколько полных дней и часов в 5000 часах?"
      ]
    },
    {
      "cell_type": "code",
      "metadata": {
        "id": "L75LwpMGzEdP",
        "colab": {
          "base_uri": "https://localhost:8080/"
        },
        "outputId": "be48da50-adbb-4dd4-ecde-8a6913bc0671"
      },
      "source": [
        "total_hour = 5000\n",
        "\n",
        "days = total_hour // 24\n",
        "hours = total_hour % days\n",
        "\n",
        "print(days)\n",
        "print(hours)"
      ],
      "execution_count": null,
      "outputs": [
        {
          "output_type": "stream",
          "name": "stdout",
          "text": [
            "208\n",
            "8\n"
          ]
        }
      ]
    },
    {
      "cell_type": "markdown",
      "metadata": {
        "id": "gmDb6UB8HwAb"
      },
      "source": [
        "#### Комбинированные операторы присваивания"
      ]
    },
    {
      "cell_type": "markdown",
      "metadata": {
        "id": "JXVyl3kWH02x"
      },
      "source": [
        "![](https://avatars.mds.yandex.net/get-zen_doc/22526/pub_5c585a845b7b5100afb0a12e_5c5d6336265ca800ac0f419f/scale_1200)"
      ]
    },
    {
      "cell_type": "markdown",
      "metadata": {
        "id": "fB8lC0R6ITKu"
      },
      "source": [
        "***Задача***\n",
        "\n",
        "Найти сумму всех целых чисел от 1 до 5 включительно."
      ]
    },
    {
      "cell_type": "code",
      "metadata": {
        "id": "xEAiZY6BG911",
        "colab": {
          "base_uri": "https://localhost:8080/"
        },
        "outputId": "c6dcbdc8-110e-4fe7-bfdc-b453df934790"
      },
      "source": [
        "sum_ = [1, 2, 3, 4, 5]\n",
        "\n",
        "print(sum_)"
      ],
      "execution_count": null,
      "outputs": [
        {
          "output_type": "stream",
          "name": "stdout",
          "text": [
            "15\n"
          ]
        }
      ]
    },
    {
      "cell_type": "markdown",
      "metadata": {
        "id": "5MLAyRNcBN64"
      },
      "source": [
        "### Числа с плавающей зяпятой"
      ]
    },
    {
      "cell_type": "markdown",
      "metadata": {
        "id": "RveLDSu8BgnI"
      },
      "source": [
        "Под числами с плавающей запятой в Python подразумеваются дробные числа.  \n",
        "Ещё их могут называть вещественные числа.\n",
        "\n",
        "А сам термин \"плавающая запятая\" (или ещё говорят \"плавающая точка\")  \n",
        "происходит от особенностей хранения таких чисел в памяти компьютера. \n",
        "\n",
        "Создание переменных с дробными числами практически ничем  \n",
        "не отличается от создания целых чисел.  \n",
        "Только в качестве десятичного разделителя выступает **точка**, а не запятая.\n"
      ]
    },
    {
      "cell_type": "code",
      "metadata": {
        "id": "1aRQSMiZA5m5",
        "colab": {
          "base_uri": "https://localhost:8080/"
        },
        "outputId": "0a4b4a14-c5b2-4246-c727-c4eb01d9ec36"
      },
      "source": [
        "a = 0.1\n",
        "b = 0.0\n",
        "c = -10.312312\n",
        "\n",
        "print(a, type(a))\n",
        "print(b, type(b))\n",
        "print(c, type(c))"
      ],
      "execution_count": null,
      "outputs": [
        {
          "output_type": "stream",
          "name": "stdout",
          "text": [
            "0.1 <class 'float'>\n",
            "0.0 <class 'float'>\n",
            "-10.312312 <class 'float'>\n"
          ]
        }
      ]
    },
    {
      "cell_type": "markdown",
      "metadata": {
        "id": "STa_X5erAb_n"
      },
      "source": [
        "#### **\"Честное\" деление**"
      ]
    },
    {
      "cell_type": "code",
      "metadata": {
        "id": "haqGUUsTAi_Z",
        "colab": {
          "base_uri": "https://localhost:8080/"
        },
        "outputId": "b8534888-753d-4ea7-b18d-284e31f38ad4"
      },
      "source": [
        "div = 5 / 10\n",
        "print(div)\n",
        "print(type(div))"
      ],
      "execution_count": null,
      "outputs": [
        {
          "output_type": "stream",
          "name": "stdout",
          "text": [
            "0.5\n",
            "<class 'float'>\n"
          ]
        }
      ]
    },
    {
      "cell_type": "code",
      "metadata": {
        "id": "kAd6DZEhAu8F",
        "colab": {
          "base_uri": "https://localhost:8080/"
        },
        "outputId": "d019d8eb-af73-4282-cf7b-ab02f496e4b9"
      },
      "source": [
        "integer_div = 10 / 5\n",
        "print(integer_div)\n",
        "print(type(integer_div))"
      ],
      "execution_count": null,
      "outputs": [
        {
          "output_type": "stream",
          "name": "stdout",
          "text": [
            "2.0\n",
            "<class 'float'>\n"
          ]
        }
      ]
    },
    {
      "cell_type": "markdown",
      "metadata": {
        "id": "KCLa2IvKA6iQ"
      },
      "source": [
        "***Примечание:***\n",
        "\n",
        "При делении вы в любом случае получаете число с плавающей запятой, даже есть оно делится нацело без остатка."
      ]
    },
    {
      "cell_type": "markdown",
      "metadata": {
        "id": "_mdO2x9bCc69"
      },
      "source": [
        "#### Особенности работы с вещественными числами"
      ]
    },
    {
      "cell_type": "markdown",
      "metadata": {
        "id": "pb2uHQ6ZCigq"
      },
      "source": [
        "Вещественные числа поддерживают те же операции, что и целые."
      ]
    },
    {
      "cell_type": "code",
      "metadata": {
        "colab": {
          "base_uri": "https://localhost:8080/"
        },
        "id": "iKSqCPt27Dr6",
        "outputId": "54702b5a-4bef-4336-eb8d-172805b90207"
      },
      "source": [
        "# чему будет равен результат?\n",
        "print(0.1 + 0.1 * 5)"
      ],
      "execution_count": null,
      "outputs": [
        {
          "output_type": "stream",
          "name": "stdout",
          "text": [
            "0.6\n"
          ]
        }
      ]
    },
    {
      "cell_type": "markdown",
      "metadata": {
        "id": "ugOs5RpmC3I6"
      },
      "source": [
        "Давайте сложим 10 раз число 0.1 ..."
      ]
    },
    {
      "cell_type": "code",
      "metadata": {
        "id": "k29pQb90CBIO",
        "colab": {
          "base_uri": "https://localhost:8080/"
        },
        "outputId": "7412d83c-c301-4ca9-ea95-3cb50ee76a56"
      },
      "source": [
        "float_ = 0.1 + 0.1 + 0.1 + 0.1 + 0.1 + 0.1 + 0.1 + 0.1 + 0.1 + 0.1\n",
        "print(float_)"
      ],
      "execution_count": null,
      "outputs": [
        {
          "output_type": "stream",
          "name": "stdout",
          "text": [
            "0.9999999999999999\n"
          ]
        }
      ]
    },
    {
      "cell_type": "code",
      "metadata": {
        "id": "2jXGSzEvDBB8",
        "colab": {
          "base_uri": "https://localhost:8080/"
        },
        "outputId": "ff4e9881-5d31-45f7-e6ae-26d6ecb46ed7"
      },
      "source": [
        "print(0.1 * 10)"
      ],
      "execution_count": null,
      "outputs": [
        {
          "output_type": "stream",
          "name": "stdout",
          "text": [
            "1.0\n"
          ]
        }
      ]
    },
    {
      "cell_type": "code",
      "metadata": {
        "id": "Lv3epI2CIwPa",
        "colab": {
          "base_uri": "https://localhost:8080/"
        },
        "outputId": "1d31880c-02bb-4727-e1c7-2bd292eaea3a"
      },
      "source": [
        "print(1 / 6)"
      ],
      "execution_count": null,
      "outputs": [
        {
          "output_type": "stream",
          "name": "stdout",
          "text": [
            "0.16666666666666666\n"
          ]
        }
      ]
    },
    {
      "cell_type": "markdown",
      "metadata": {
        "id": "2OuootmpED6S"
      },
      "source": [
        "***Примечание:***\n",
        "\n",
        "Для высокой точности используют другие типы данных **`Decimal`** или **`Fraction`**.  \n",
        "Устройство и работа с этими типами данных выходит за рамки нашего курса.  \n",
        "Почитать про устройства чисел с плавающей запятой можно [здесь](https://habr.com/ru/post/337260/ )."
      ]
    },
    {
      "cell_type": "markdown",
      "metadata": {
        "id": "a5zJ6j8HEfFc"
      },
      "source": [
        "#### Команда **`round`**"
      ]
    },
    {
      "cell_type": "markdown",
      "metadata": {
        "id": "LHFqEsxxCrEK"
      },
      "source": [
        "```python\n",
        "round(number[, ndigits=0])\n",
        "```\n",
        "\n",
        "Команда **`round`** принимает два значения:\n",
        "- **number** - число, которое необходимо округлить;\n",
        "- **ndigits** - количество знаков после запятой (необязательное значение).\n",
        "\n",
        "***Примечание:***\n",
        "\n",
        "Здесь и далее если какие-то значения указаны в квадратных скобках, то их можно не указывать, потому что для них установлено значение по умолчанию."
      ]
    },
    {
      "cell_type": "code",
      "metadata": {
        "id": "8Lg7l_wmDlek",
        "colab": {
          "base_uri": "https://localhost:8080/"
        },
        "outputId": "ec12fc16-cf47-4122-90ec-de695d2cc093"
      },
      "source": [
        "a = 1.5\n",
        "a = round(a)\n",
        "\n",
        "print(a)\n",
        "print(type(a))"
      ],
      "execution_count": null,
      "outputs": [
        {
          "output_type": "stream",
          "name": "stdout",
          "text": [
            "2\n",
            "<class 'int'>\n"
          ]
        }
      ]
    },
    {
      "cell_type": "code",
      "metadata": {
        "id": "MK2LjA3bGuA7",
        "colab": {
          "base_uri": "https://localhost:8080/"
        },
        "outputId": "c41476a1-9035-4a2d-8960-20288a3b9fde"
      },
      "source": [
        "a = 2.5\n",
        "a = round(a)\n",
        "\n",
        "print(a)\n",
        "print(type(a))"
      ],
      "execution_count": null,
      "outputs": [
        {
          "output_type": "stream",
          "name": "stdout",
          "text": [
            "2\n",
            "<class 'int'>\n"
          ]
        }
      ]
    },
    {
      "cell_type": "code",
      "metadata": {
        "id": "d_JOL21lG07z",
        "colab": {
          "base_uri": "https://localhost:8080/"
        },
        "outputId": "2aaefaa5-3547-48e5-c64c-ccb1aae5bec9"
      },
      "source": [
        "a = 2.65\n",
        "a = round(a, 1)\n",
        "\n",
        "print(a)\n",
        "print(type(a))"
      ],
      "execution_count": null,
      "outputs": [
        {
          "output_type": "stream",
          "name": "stdout",
          "text": [
            "2.6\n",
            "<class 'float'>\n"
          ]
        }
      ]
    },
    {
      "cell_type": "code",
      "metadata": {
        "id": "KL8tAHrDG3J2",
        "colab": {
          "base_uri": "https://localhost:8080/"
        },
        "outputId": "2a270d0d-b3a4-4a60-cb26-0c27d495008b"
      },
      "source": [
        "a = 2.75\n",
        "a = round(a, 1)\n",
        "\n",
        "print(a)\n",
        "print(type(a))"
      ],
      "execution_count": null,
      "outputs": [
        {
          "output_type": "stream",
          "name": "stdout",
          "text": [
            "2.8\n",
            "<class 'float'>\n"
          ]
        }
      ]
    },
    {
      "cell_type": "markdown",
      "metadata": {
        "id": "IZDBVIj8HDsG"
      },
      "source": [
        "В Python используется так называемое \"Банковское округление\", то есть округление **к ближайшему чётному**."
      ]
    },
    {
      "cell_type": "markdown",
      "metadata": {
        "id": "k3ZNYre-ewvK"
      },
      "source": [
        "***Задача***\n",
        "\n",
        "Найти квадратный корень числа 2 с точностью до 4 знака после запятой."
      ]
    },
    {
      "cell_type": "code",
      "metadata": {
        "id": "gF8g7i1ke-2b"
      },
      "source": [
        "sqrt_2 = ...\n",
        "\n",
        "..."
      ],
      "execution_count": null,
      "outputs": []
    },
    {
      "cell_type": "markdown",
      "metadata": {
        "id": "8xgEH3sf7dZU"
      },
      "source": [
        "#### Явное приведение типов"
      ]
    },
    {
      "cell_type": "markdown",
      "metadata": {
        "id": "iKtkzkR2yhbR"
      },
      "source": [
        "Так можно сделать явное приведение типов и например перевести \n",
        "- `int` -> `float`\n",
        "- `float` -> `int`"
      ]
    },
    {
      "cell_type": "code",
      "metadata": {
        "id": "HcHBolbuzPri"
      },
      "source": [
        "int_ = int(123.321)\n",
        "print(int_, type(int_))"
      ],
      "execution_count": null,
      "outputs": []
    },
    {
      "cell_type": "code",
      "metadata": {
        "id": "Il-04TqWzfaM"
      },
      "source": [
        "float_ = float(123)\n",
        "print(float_, type(float_))"
      ],
      "execution_count": null,
      "outputs": []
    },
    {
      "cell_type": "markdown",
      "metadata": {
        "id": "kdBNOVybyPfo"
      },
      "source": [
        "### Логические переменные - `bool`"
      ]
    },
    {
      "cell_type": "markdown",
      "metadata": {
        "id": "rEXn3AMA2X-e"
      },
      "source": [
        "Логических переменные имеют всего два значения:\n",
        "- `True`\n",
        "- `False`\n",
        "\n",
        "Подробнее с ними будем знакомиться на следующей лекции."
      ]
    },
    {
      "cell_type": "code",
      "metadata": {
        "id": "Q04Z3QZ5yUGT"
      },
      "source": [
        "True_ = True  # 1\n",
        "false = False  # 0\n",
        "\n",
        "print(True_, false)\n",
        "print(type(True_))"
      ],
      "execution_count": null,
      "outputs": []
    }
  ]
}